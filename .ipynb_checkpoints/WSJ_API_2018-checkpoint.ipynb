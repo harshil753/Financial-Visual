{
 "cells": [
  {
   "cell_type": "code",
   "execution_count": 1,
   "metadata": {
    "collapsed": true
   },
   "outputs": [],
   "source": [
    "# Dependencies\n",
    "import requests as req\n",
    "import numpy as np\n",
    "import pandas as pd\n",
    "import json\n",
    "import time\n",
    "import nltk.data"
   ]
  },
  {
   "cell_type": "markdown",
   "metadata": {},
   "source": [
    "# TEST"
   ]
  },
  {
   "cell_type": "code",
   "execution_count": 2,
   "metadata": {},
   "outputs": [
    {
     "name": "stdout",
     "output_type": "stream",
     "text": [
      "https://newsapi.org/v2/everything?q=IBM&from=2018-01-19&sortBy=popularity&apiKey=c441f397416a4dcbafbc10855d15fc73\n"
     ]
    }
   ],
   "source": [
    "#TEST url\n",
    "#All news\n",
    "url = ('https://newsapi.org/v2/everything?'\n",
    "       'q=IBM&'\n",
    "       'from=2018-01-19&'\n",
    "       'sortBy=popularity&'\n",
    "       'apiKey=c441f397416a4dcbafbc10855d15fc73')\n",
    "response = req.get(url)\n",
    "query = url\n",
    "print(query)"
   ]
  },
  {
   "cell_type": "code",
   "execution_count": 3,
   "metadata": {
    "collapsed": true
   },
   "outputs": [],
   "source": [
    "# News API URL\n",
    "url = \"https://newsapi.org/v2/everything?\"\n",
    "apikey = \"c441f397416a4dcbafbc10855d15fc73\""
   ]
  },
  {
   "cell_type": "code",
   "execution_count": 4,
   "metadata": {
    "collapsed": true
   },
   "outputs": [],
   "source": [
    "# TEST search with one ticker\n",
    "q = \"IBM\""
   ]
  },
  {
   "cell_type": "code",
   "execution_count": 5,
   "metadata": {
    "collapsed": true
   },
   "outputs": [],
   "source": [
    "# TEST dates with fixed dates\n",
    "Open_Date = \"2018-01-01\"\n",
    "Close_Date = \"2018-01-19\""
   ]
  },
  {
   "cell_type": "code",
   "execution_count": 6,
   "metadata": {},
   "outputs": [
    {
     "name": "stdout",
     "output_type": "stream",
     "text": [
      "https://newsapi.org/v2/everything?q=IBM&from=2018-01-01&to=2018-01-19&apikey=c441f397416a4dcbafbc10855d15fc73\n"
     ]
    }
   ],
   "source": [
    "# TEST query URL \n",
    "query = url + \"q=\" + q + \"&from=\" + Open_Date + \"&to=\" + Close_Date + \"&apikey=\" + apikey\n",
    "print(query)"
   ]
  },
  {
   "cell_type": "code",
   "execution_count": 7,
   "metadata": {
    "scrolled": true
   },
   "outputs": [
    {
     "name": "stdout",
     "output_type": "stream",
     "text": [
      "https://newsapi.org/v2/everything?q=IBM&from=2018-01-01&to=2018-01-19&apikey=c441f397416a4dcbafbc10855d15fc73\n",
      "[{'source': {'id': None, 'name': 'Ibm.com'}, 'author': None, 'title': 'IBM FlashSystem A9000 and A9000R, IBM XIV, and IBM Spectrum Accelerate with IBM SAN Volume Controller Best Practices', 'description': 'Redpaper, published: Mon, 8 Jan 2018 This IBM® Redpaper™ publication describes preferred practices for attaching members of the IBM Spectrum™ Accelerate family, including the IBM XIV® Gen3 Storage System, IBM FlashSystem® A9000, IBM FlashSystem A9000R, and ot…', 'url': 'http://www.redbooks.ibm.com/abstracts/redp5408.html?Open', 'urlToImage': None, 'publishedAt': '2018-01-08T13:30:00Z'}, {'source': {'id': None, 'name': 'Ibm.com'}, 'author': None, 'title': 'IBM Spectrum Archive Enterprise Edition V1.2.5.1 Installation and Configuration Guide', 'description': 'Redbook, published: Fri, 12 Jan 2018 This IBM® Redbooks® publication helps you with the planning, installation, and configuration of the new IBM Spectrum™ Archive V1.2.5.1 for the IBM TS3310, IBM TS3500, IBM TS4300, and IBM TS4500 tape libraries.', 'url': 'http://www.redbooks.ibm.com/abstracts/sg248333.html?Open', 'urlToImage': None, 'publishedAt': '2018-01-12T13:30:00Z'}, {'source': {'id': None, 'name': 'Blognone.com'}, 'author': 'mk', 'title': 'IBM ตั้งบริษัทร่วมทุน Maersk พัฒนา Blockchain สำหรับอุตสาหกรรมขนส่งทางเรือ', 'description': 'IBM ประกาศความร่วมมือกับ Maersk บริษัทด้านขนส่งและเดินเรือรายใหญ่ของโลก ตั้งบริษัทร่วมทุน (joint venture) สำหรับนำ blockchain มาใช้กับเครือข่ายขนส่งทางเรือ บริษัทใหม่จะมีหน้าที่สร้างแพลตฟอร์มดิจิทัลสำหรับการค้าและการขนส่ง เป็นมาตรฐานเปิดที่ให้ทุกบริษัทในวงการ…', 'url': 'https://www.blognone.com/node/99117', 'urlToImage': 'https://www.blognone.com/sites/default/files/externals/cc4c4fe529e49f8820984b6bb99486f2.png', 'publishedAt': '2018-01-17T02:37:05Z'}, {'source': {'id': None, 'name': 'Blognone.com'}, 'author': 'mk', 'title': '[ข่าวลือ] IBM Global Technology Services จะปรับโครงสร้างครั้งใหญ่ ปลดพนักงาน 10,000 คน', 'description': 'มีข่าวไม่ยืนยันมาจาก IBM Global Technology Services (GTS) ฝ่ายบริการและที่ปรึกษาด้านไอทีของยักษ์ใหญ่ IBM ที่มีพนักงานทั่วโลกประมาณ 1 แสนคน ว่าพนักงาน 30% จะถูกสับเปลี่ยนตำแหน่ง (redeploy) และพนักงานประมาณ 10% หรือ 1 หมื่นคนอาจต้องตกงาน เว็บไซต์ The Register ไ…', 'url': 'https://www.blognone.com/node/99041', 'urlToImage': 'https://www.blognone.com/sites/default/files/externals/23fd4c3758d0460d97813edfc735d5f0.jpg', 'publishedAt': '2018-01-14T01:47:59Z'}, {'source': {'id': None, 'name': 'Ibm.com'}, 'author': None, 'title': 'Liberty in IBM CICS: Deploying and Managing Java EE Applications', 'description': 'Redbook, published: Thu, 18 Jan 2018 This IBM® Redbooks® publication is intended for IBM CICS® system programmers and IBM Z architects.', 'url': 'http://www.redbooks.ibm.com/abstracts/sg248418.html?Open', 'urlToImage': None, 'publishedAt': '2018-01-18T13:30:00Z'}, {'source': {'id': None, 'name': 'Cert-bund.de'}, 'author': '', 'title': 'IBM Spectrum Protect: Mehrere Schwachstellen ermöglichen u.a. das Ausspähen sensitiver Informationen', 'description': 'IBM Spectrum Protect Client (ehemals Tivoli Storage Manager Client) ist die Benutzeroberfläche zu dem IBM Spectrum Protect (ehemals IBM Tivoli Storage Manager). IBM Spectrum Protect ist ein skalierbares Programm zum Backup- und Recovery-Management. Die Softwa…', 'url': 'https://www.cert-bund.de/advisoryshort/CB-K18-0006', 'urlToImage': None, 'publishedAt': '2018-01-04T16:46:00Z'}, {'source': {'id': 'business-insider', 'name': 'Business Insider'}, 'author': 'Becky Peterson', 'title': 'IBM just replaced its chief financial officer (IBM)', 'description': \"IBM veteran James J. Kavanaugh will take over as CFO. Kavanaugh replaces Martin J. Schroeter, who's served as CFO since 2014. Schroeter will take on the role as SVP of global markets. Both role changes went into effect Thursday, according to the filing. IBM j…\", 'url': 'http://www.businessinsider.com/ibm-replaces-chief-financial-officer-2018-1', 'urlToImage': 'http://static5.businessinsider.com/image/5a5805f028eecc01028b47db-1190-625/ibm-just-replaced-its-chief-financial-officer.jpg', 'publishedAt': '2018-01-12T01:16:29Z'}, {'source': {'id': None, 'name': 'Ibm.com'}, 'author': 'Matthew Wilson', 'title': 'With expanded partnernship, IBM becomes a Salesforce preferred cloud services provider', 'description': 'IBM and Salesforce have announced an expansion of their cloud and AI partnership, a move which included Salesforce naming IBM a preferred cloud services provider. “Naming IBM as a Salesforce preferred cloud services provider demonstrates the power of the IBM …', 'url': 'https://www.ibm.com/blogs/cloud-computing/2018/01/ibm-salesforce-preferred-cloud-services-provider/', 'urlToImage': 'https://www.ibm.com/blogs/cloud-computing/wp-content/uploads/2018/01/IBM_Salesforce_Rometty_Benioff-300x240.jpg', 'publishedAt': '2018-01-19T15:29:15Z'}, {'source': {'id': None, 'name': 'Ibm.com'}, 'author': None, 'title': 'IBM FlashSystem V9000 AE3 and AC3 Performance', 'description': 'Draft Redpaper, last updated: Fri, 12 Jan 2018 This IBM® Redpaper™ publication provides information about the best practices and performance capabilities when implementing a storage solution using IBM FlashSystem® V9000 9846-AC3 with IBM FlashSystem V9000 984…', 'url': 'http://www.redbooks.ibm.com/redpieces/abstracts/redp5480.html?Open', 'urlToImage': None, 'publishedAt': '2018-01-12T13:30:00Z'}, {'source': {'id': None, 'name': 'Ibm.com'}, 'author': None, 'title': 'IBM System Storage SAN Volume Controller and Storwize V7000 Best Practices and Performance Guidelines', 'description': 'Draft Redbook, last updated: Wed, 10 Jan 2018 This IBM® Redbooks® publication captures several of the preferred practices and describes the performance gains that can be achieved by implementing the IBM System Storage® SAN Volume Controller and IBM Storwize® …', 'url': 'http://www.redbooks.ibm.com/redpieces/abstracts/sg247521.html?Open', 'urlToImage': None, 'publishedAt': '2018-01-10T13:30:00Z'}, {'source': {'id': None, 'name': 'Siliconangle.com'}, 'author': 'Mike Wheatley', 'title': 'Report: IBM to combine GBS and GTS units into single business called ‘IBM Services’', 'description': 'IBM Corp. is believed to be planning a rebranding of its Global Technology Services and Global Business Services units, merging them into a single unit to be called “IBM Services”, according to reports. The two businesses are a part of IBM Global Services, wh…', 'url': 'https://siliconangle.com/blog/2018/01/15/report-ibm-combine-gbs-gts-units-single-business-called-ibm-services/', 'urlToImage': 'https://d15shllkswkct0.cloudfront.net/wp-content/blogs.dir/1/files/2018/01/3645803541_28e7f834f7_o.png', 'publishedAt': '2018-01-16T01:18:47Z'}, {'source': {'id': None, 'name': 'Ibm.com'}, 'author': None, 'title': 'IBM Tape Library Guide for Open Systems', 'description': 'This IBM® Redbooks® publication presents a general introduction to the latest IBM tape and tape library technologies. Featured tape technologies include the IBM LTO Ultrium and Enterprise 3592 tape drives, ...', 'url': 'http://www.redbooks.ibm.com/redpieces/abstracts/sg245946.html?Open', 'urlToImage': None, 'publishedAt': '2018-01-18T13:30:00Z'}, {'source': {'id': None, 'name': 'Golem.de'}, 'author': 'Oliver Nickel', 'title': 'IBM Q: IBMs Quantencomputer klingt wie ein dampfbetriebenes Uhrwerk', 'description': 'Im Video stellt IBM sein Quantenlabor IBM Q und dessen Betriebsgeräusch vor. Das Kühlsystem muss das System auf 15 Millikelvin herunterkühlen. Das klingt wie eine Mischung aus Dampfmaschine und Uhrwerk. ( IBM, Intel )', 'url': 'https://www.golem.de/news/ibm-q-ibms-quantencomputer-klingt-wie-ein-dampfbetriebenes-uhrwerk-1801-131927.html', 'urlToImage': 'https://www.golem.de/1801/131927-151165-i_rc.jpg', 'publishedAt': '2018-01-02T16:32:00Z'}, {'source': {'id': None, 'name': 'Socialmediaportal.com'}, 'author': None, 'title': 'IBM Breaks Records to Top U.S. Patent List for 25th Consecutive Year', 'description': 'IBM Inventors Receive Record 9,043 Patents in 2017 in Areas such as Artificial Intelligence, Cloud, Blockchain, Cybersecurity and Quantum ComputingARMONK, New York/PRNewswire/ -- IBM (NYSE: IBM) inventors received a record 9,043 patents in 2017, marking...', 'url': 'https://www.socialmediaportal.com/PressReleases/2018/01/IBM-Breaks-Records-to-Top-U-S-Patent-List-for-25th-Consecutive-Year.aspx', 'urlToImage': None, 'publishedAt': '2018-01-09T05:32:10Z'}, {'source': {'id': 'reuters', 'name': 'Reuters'}, 'author': 'Reuters Editorial', 'title': 'BRIEF-IBM, Salesforce Strengthen Strategic Partnership', 'description': '* IBM - PARTNERSHIP BRINGS TOGETHER IBM CLOUD AND WATSON SERVICES WITH SALESFORCE QUIP AND SALESFORCE SERVICE CLOUD EINSTEIN', 'url': 'https://www.reuters.com/article/brief-ibm-salesforce-strengthen-strategi/brief-ibm-salesforce-strengthen-strategic-partnership-idUSFWN1PE0IQ', 'urlToImage': 'https://s4.reutersmedia.net/resources_v2/images/rcom-default.png', 'publishedAt': '2018-01-19T12:04:15Z'}, {'source': {'id': 'cnbc', 'name': 'CNBC'}, 'author': 'CNBC, Jordan Novet, CNBC', 'title': 'Earnings report: IBM shares fall despite first growth in 23 quarters', 'description': 'IBM returned to revenue growth for the first time in five years. IBM took a one-time accounting charge.', 'url': 'https://www.cnbc.com/2018/01/18/ibm-earnings-q4-2017.html?utm_source=google&utm_medium=amp&utm_campaign=speakable', 'urlToImage': 'https://www.gannett-cdn.com/-mm-/590b642c1dc42758726143b4ac33f5463e13d38a/c=0-30-580-356&r=x803&c=1600x800/local/-/media/2018/01/18/USATODAY/usatsports/ibms-global-center-for-watson-iot-in-munich-germanyjpg-1_large.jpg', 'publishedAt': '2018-01-19T13:01:38Z'}, {'source': {'id': None, 'name': 'Seekingalpha.com'}, 'author': 'Patrick Doyle', 'title': 'IBM Is On Sale', 'description': 'In my view, shares of IBM are priced way too pessimistically in light of the many growth drivers present. The dividend is sustainable, and worries about long te', 'url': 'https://seekingalpha.com/article/4138615-ibm-sale', 'urlToImage': 'https://static1.seekingalpha.com/images/marketing_images/bull_bear/bull/bull_14.png', 'publishedAt': '2018-01-19T14:33:49Z'}, {'source': {'id': None, 'name': 'Seekingalpha.com'}, 'author': 'Trent Welsh', 'title': 'IBM Has Cryptomania Upside', 'description': \"IBM is speeding up global payments processing featuring Stellar's Lumens cryptocurrency with an option to expand the program after testing. 1500 employees dedic\", 'url': 'https://seekingalpha.com/article/4137850-ibm-cryptomania-upside', 'urlToImage': 'https://static.seekingalpha.com/uploads/2018/1/15/saupload_74be7c912763d7698c63d20a226b2e44.png', 'publishedAt': '2018-01-16T21:22:10Z'}, {'source': {'id': None, 'name': 'Corriere.it'}, 'author': None, 'title': 'Sviluppatore IBM Interact Campaign', 'description': 'Trova lavoro come Sviluppatore IBM Interact Campaign Milano. Questo annuncio di lavoro e tutte le altre posizioni aperte nel settore Informatica, IT su Trovolavoro', 'url': 'https://lavoro.corriere.it/Annunci/Sviluppatore_Ibm_Interact_Campaign_750111587.htm', 'urlToImage': '//lavoro.corriere.it/common/images/palette.gif', 'publishedAt': '2018-01-09T09:37:10Z'}, {'source': {'id': None, 'name': 'Seekingalpha.com'}, 'author': 'Stone Fox Capital', 'title': 'IBM: Sellers Gone Crazy', 'description': 'IBM has already reached an inflection point in this key metric. Elimination of a influential seller and a high short position will provide a catalyst for a rall', 'url': 'https://seekingalpha.com/article/4137231-ibm-sellers-gone-crazy', 'urlToImage': 'https://static2.seekingalpha.com/images/marketing_images/fair_use_logos_products/sacl_ibm_2010012907455843_0799.jpeg', 'publishedAt': '2018-01-12T16:50:01Z'}]\n"
     ]
    }
   ],
   "source": [
    "# TEST Query json\n",
    "query = url + \"q=\" + q + \"&from=\" + Open_Date + \"&to=\" + Close_Date + \"&apikey=\" + apikey\n",
    "\n",
    "print(query)\n",
    "# Retrieve articles\n",
    "articles = req.get(query).json()['articles']\n",
    "print(articles)\n",
    "\n",
    "# for article in articles:\n",
    "#     print(\"A snippet from the article: '\" + article[\"description\"] + \"'.\\n\")"
   ]
  },
  {
   "cell_type": "code",
   "execution_count": 8,
   "metadata": {},
   "outputs": [
    {
     "name": "stdout",
     "output_type": "stream",
     "text": [
      "Redpaper, published: Mon, 8 Jan 2018 This IBM® Redpaper™ publication describes preferred practices for attaching members of the IBM Spectrum™ Accelerate family, including the IBM XIV® Gen3 Storage System, IBM FlashSystem® A9000, IBM FlashSystem A9000R, and ot…\n",
      "======================\n",
      "Redbook, published: Fri, 12 Jan 2018 This IBM® Redbooks® publication helps you with the planning, installation, and configuration of the new IBM Spectrum™ Archive V1.2.5.1 for the IBM TS3310, IBM TS3500, IBM TS4300, and IBM TS4500 tape libraries.\n",
      "======================\n",
      "IBM ประกาศความร่วมมือกับ Maersk บริษัทด้านขนส่งและเดินเรือรายใหญ่ของโลก ตั้งบริษัทร่วมทุน (joint venture) สำหรับนำ blockchain มาใช้กับเครือข่ายขนส่งทางเรือ บริษัทใหม่จะมีหน้าที่สร้างแพลตฟอร์มดิจิทัลสำหรับการค้าและการขนส่ง เป็นมาตรฐานเปิดที่ให้ทุกบริษัทในวงการ…\n",
      "======================\n",
      "มีข่าวไม่ยืนยันมาจาก IBM Global Technology Services (GTS) ฝ่ายบริการและที่ปรึกษาด้านไอทีของยักษ์ใหญ่ IBM ที่มีพนักงานทั่วโลกประมาณ 1 แสนคน ว่าพนักงาน 30% จะถูกสับเปลี่ยนตำแหน่ง (redeploy) และพนักงานประมาณ 10% หรือ 1 หมื่นคนอาจต้องตกงาน เว็บไซต์ The Register ไ…\n",
      "======================\n",
      "Redbook, published: Thu, 18 Jan 2018 This IBM® Redbooks® publication is intended for IBM CICS® system programmers and IBM Z architects.\n",
      "======================\n",
      "IBM Spectrum Protect Client (ehemals Tivoli Storage Manager Client) ist die Benutzeroberfläche zu dem IBM Spectrum Protect (ehemals IBM Tivoli Storage Manager). IBM Spectrum Protect ist ein skalierbares Programm zum Backup- und Recovery-Management. Die Softwa…\n",
      "======================\n",
      "IBM veteran James J. Kavanaugh will take over as CFO. Kavanaugh replaces Martin J. Schroeter, who's served as CFO since 2014. Schroeter will take on the role as SVP of global markets. Both role changes went into effect Thursday, according to the filing. IBM j…\n",
      "======================\n",
      "IBM and Salesforce have announced an expansion of their cloud and AI partnership, a move which included Salesforce naming IBM a preferred cloud services provider. “Naming IBM as a Salesforce preferred cloud services provider demonstrates the power of the IBM …\n",
      "======================\n",
      "Draft Redpaper, last updated: Fri, 12 Jan 2018 This IBM® Redpaper™ publication provides information about the best practices and performance capabilities when implementing a storage solution using IBM FlashSystem® V9000 9846-AC3 with IBM FlashSystem V9000 984…\n",
      "======================\n",
      "Draft Redbook, last updated: Wed, 10 Jan 2018 This IBM® Redbooks® publication captures several of the preferred practices and describes the performance gains that can be achieved by implementing the IBM System Storage® SAN Volume Controller and IBM Storwize® …\n",
      "======================\n",
      "IBM Corp. is believed to be planning a rebranding of its Global Technology Services and Global Business Services units, merging them into a single unit to be called “IBM Services”, according to reports. The two businesses are a part of IBM Global Services, wh…\n",
      "======================\n",
      "This IBM® Redbooks® publication presents a general introduction to the latest IBM tape and tape library technologies. Featured tape technologies include the IBM LTO Ultrium and Enterprise 3592 tape drives, ...\n",
      "======================\n",
      "Im Video stellt IBM sein Quantenlabor IBM Q und dessen Betriebsgeräusch vor. Das Kühlsystem muss das System auf 15 Millikelvin herunterkühlen. Das klingt wie eine Mischung aus Dampfmaschine und Uhrwerk. ( IBM, Intel )\n",
      "======================\n",
      "IBM Inventors Receive Record 9,043 Patents in 2017 in Areas such as Artificial Intelligence, Cloud, Blockchain, Cybersecurity and Quantum ComputingARMONK, New York/PRNewswire/ -- IBM (NYSE: IBM) inventors received a record 9,043 patents in 2017, marking...\n",
      "======================\n",
      "* IBM - PARTNERSHIP BRINGS TOGETHER IBM CLOUD AND WATSON SERVICES WITH SALESFORCE QUIP AND SALESFORCE SERVICE CLOUD EINSTEIN\n",
      "======================\n",
      "IBM returned to revenue growth for the first time in five years. IBM took a one-time accounting charge.\n",
      "======================\n",
      "In my view, shares of IBM are priced way too pessimistically in light of the many growth drivers present. The dividend is sustainable, and worries about long te\n",
      "======================\n",
      "IBM is speeding up global payments processing featuring Stellar's Lumens cryptocurrency with an option to expand the program after testing. 1500 employees dedic\n",
      "======================\n",
      "Trova lavoro come Sviluppatore IBM Interact Campaign Milano. Questo annuncio di lavoro e tutte le altre posizioni aperte nel settore Informatica, IT su Trovolavoro\n",
      "======================\n",
      "IBM has already reached an inflection point in this key metric. Elimination of a influential seller and a high short position will provide a catalyst for a rall\n",
      "======================\n"
     ]
    }
   ],
   "source": [
    "queries_returned = len(articles)\n",
    "for x in range(queries_returned):\n",
    "    print(articles[x]['description'])\n",
    "    print(\"======================\")"
   ]
  },
  {
   "cell_type": "code",
   "execution_count": 9,
   "metadata": {},
   "outputs": [
    {
     "name": "stdout",
     "output_type": "stream",
     "text": [
      "11\n"
     ]
    }
   ],
   "source": [
    "# TEST article count\n",
    "article_count = len(\"description\")\n",
    "print(article_count)"
   ]
  },
  {
   "cell_type": "code",
   "execution_count": 10,
   "metadata": {},
   "outputs": [
    {
     "name": "stdout",
     "output_type": "stream",
     "text": [
      "C:\\Users\\craig\\Desktop\\Bounce_Back\\Bounce_Back\\vaderSentiment_master\n"
     ]
    }
   ],
   "source": [
    "cd vaderSentiment_master"
   ]
  },
  {
   "cell_type": "code",
   "execution_count": 11,
   "metadata": {},
   "outputs": [
    {
     "name": "stdout",
     "output_type": "stream",
     "text": [
      "C:\\Users\\craig\\Desktop\\Bounce_Back\\Bounce_Back\\vaderSentiment_master\\vaderSentiment\n"
     ]
    }
   ],
   "source": [
    "cd vaderSentiment"
   ]
  },
  {
   "cell_type": "code",
   "execution_count": 12,
   "metadata": {
    "collapsed": true
   },
   "outputs": [],
   "source": [
    "import vaderSentiment"
   ]
  },
  {
   "cell_type": "code",
   "execution_count": 13,
   "metadata": {
    "collapsed": true
   },
   "outputs": [],
   "source": [
    "# Import and Initialize Sentiment Analyzer\n",
    "from vaderSentiment import SentimentIntensityAnalyzer\n",
    "analyzer = SentimentIntensityAnalyzer()"
   ]
  },
  {
   "cell_type": "code",
   "execution_count": 14,
   "metadata": {},
   "outputs": [
    {
     "name": "stdout",
     "output_type": "stream",
     "text": [
      "Compound Score: 0.5106\n",
      "Positive Score: 0.163\n",
      "Neutral Score: 0.837\n",
      "Negative Score: 0.0\n"
     ]
    }
   ],
   "source": [
    "# Test Vader Analysis without  loop\n",
    "\n",
    "Article_Sentiment = (articles[x]['description'])\n",
    "compound = analyzer.polarity_scores(Article_Sentiment)[\"compound\"]\n",
    "pos = analyzer.polarity_scores(Article_Sentiment)[\"pos\"]\n",
    "neu = analyzer.polarity_scores(Article_Sentiment)[\"neu\"]\n",
    "neg = analyzer.polarity_scores(Article_Sentiment)[\"neg\"]\n",
    "            \n",
    "            # Print Analysis\n",
    "print(\"Compound Score: %s\" % compound)\n",
    "print(\"Positive Score: %s\" % pos)\n",
    "print(\"Neutral Score: %s\" % neu)\n",
    "print(\"Negative Score: %s\" % neg)"
   ]
  },
  {
   "cell_type": "code",
   "execution_count": 15,
   "metadata": {},
   "outputs": [
    {
     "name": "stdout",
     "output_type": "stream",
     "text": [
      "0.5106\n"
     ]
    }
   ],
   "source": [
    "Sentiment_Summation = compound \n",
    "print(Sentiment_Summation)"
   ]
  },
  {
   "cell_type": "markdown",
   "metadata": {},
   "source": [
    "# PRODUCTION"
   ]
  },
  {
   "cell_type": "code",
   "execution_count": 18,
   "metadata": {},
   "outputs": [
    {
     "name": "stdout",
     "output_type": "stream",
     "text": [
      "C:\\Users\\craig\\Desktop\\Bounce_Back\\Bounce_Back\n"
     ]
    }
   ],
   "source": [
    "cd .."
   ]
  },
  {
   "cell_type": "code",
   "execution_count": 19,
   "metadata": {},
   "outputs": [],
   "source": [
    "# Need to run for local install of Vader Module solution\n"
   ]
  },
  {
   "cell_type": "code",
   "execution_count": 20,
   "metadata": {},
   "outputs": [
    {
     "data": {
      "text/html": [
       "<div>\n",
       "<style>\n",
       "    .dataframe thead tr:only-child th {\n",
       "        text-align: right;\n",
       "    }\n",
       "\n",
       "    .dataframe thead th {\n",
       "        text-align: left;\n",
       "    }\n",
       "\n",
       "    .dataframe tbody tr th {\n",
       "        vertical-align: top;\n",
       "    }\n",
       "</style>\n",
       "<table border=\"1\" class=\"dataframe\">\n",
       "  <thead>\n",
       "    <tr style=\"text-align: right;\">\n",
       "      <th></th>\n",
       "      <th>Unnamed: 0</th>\n",
       "      <th>Ticker</th>\n",
       "      <th>Opening Price</th>\n",
       "      <th>Closing Price</th>\n",
       "      <th>Close_Date</th>\n",
       "      <th>Open_Date</th>\n",
       "    </tr>\n",
       "  </thead>\n",
       "  <tbody>\n",
       "    <tr>\n",
       "      <th>0</th>\n",
       "      <td>0</td>\n",
       "      <td>MRC</td>\n",
       "      <td>17.34</td>\n",
       "      <td>15.29</td>\n",
       "      <td>23-Jun-2017</td>\n",
       "      <td>16-Jun-2017</td>\n",
       "    </tr>\n",
       "    <tr>\n",
       "      <th>1</th>\n",
       "      <td>1</td>\n",
       "      <td>MRC</td>\n",
       "      <td>10.08</td>\n",
       "      <td>8.94</td>\n",
       "      <td>12-Feb-2016</td>\n",
       "      <td>5-Feb-2016</td>\n",
       "    </tr>\n",
       "    <tr>\n",
       "      <th>2</th>\n",
       "      <td>2</td>\n",
       "      <td>MRC</td>\n",
       "      <td>12.78</td>\n",
       "      <td>11.38</td>\n",
       "      <td>8-Jan-2016</td>\n",
       "      <td>1-Jan-2016</td>\n",
       "    </tr>\n",
       "    <tr>\n",
       "      <th>3</th>\n",
       "      <td>3</td>\n",
       "      <td>MRC</td>\n",
       "      <td>12.84</td>\n",
       "      <td>11.35</td>\n",
       "      <td>21-Aug-2015</td>\n",
       "      <td>14-Aug-2015</td>\n",
       "    </tr>\n",
       "    <tr>\n",
       "      <th>4</th>\n",
       "      <td>4</td>\n",
       "      <td>MRC</td>\n",
       "      <td>14.98</td>\n",
       "      <td>13.22</td>\n",
       "      <td>24-Jul-2015</td>\n",
       "      <td>17-Jul-2015</td>\n",
       "    </tr>\n",
       "  </tbody>\n",
       "</table>\n",
       "</div>"
      ],
      "text/plain": [
       "   Unnamed: 0 Ticker  Opening Price  Closing Price   Close_Date    Open_Date\n",
       "0           0    MRC          17.34          15.29  23-Jun-2017  16-Jun-2017\n",
       "1           1    MRC          10.08           8.94  12-Feb-2016   5-Feb-2016\n",
       "2           2    MRC          12.78          11.38   8-Jan-2016   1-Jan-2016\n",
       "3           3    MRC          12.84          11.35  21-Aug-2015  14-Aug-2015\n",
       "4           4    MRC          14.98          13.22  24-Jul-2015  17-Jul-2015"
      ]
     },
     "execution_count": 20,
     "metadata": {},
     "output_type": "execute_result"
    }
   ],
   "source": [
    "# Import csv to stock_price_pd\n",
    "stock_price_pd = pd.read_csv(\"price drops.csv\")\n",
    "stock_price_pd.head()"
   ]
  },
  {
   "cell_type": "code",
   "execution_count": 21,
   "metadata": {},
   "outputs": [
    {
     "data": {
      "text/html": [
       "<div>\n",
       "<style>\n",
       "    .dataframe thead tr:only-child th {\n",
       "        text-align: right;\n",
       "    }\n",
       "\n",
       "    .dataframe thead th {\n",
       "        text-align: left;\n",
       "    }\n",
       "\n",
       "    .dataframe tbody tr th {\n",
       "        vertical-align: top;\n",
       "    }\n",
       "</style>\n",
       "<table border=\"1\" class=\"dataframe\">\n",
       "  <thead>\n",
       "    <tr style=\"text-align: right;\">\n",
       "      <th></th>\n",
       "      <th>Unnamed: 0</th>\n",
       "      <th>Ticker</th>\n",
       "      <th>Opening Price</th>\n",
       "      <th>Closing Price</th>\n",
       "      <th>Close_Date</th>\n",
       "      <th>Open_Date</th>\n",
       "      <th>Article_Count</th>\n",
       "      <th>Article_Avg_Sentiment</th>\n",
       "      <th>Sentiment_Summation</th>\n",
       "    </tr>\n",
       "  </thead>\n",
       "  <tbody>\n",
       "    <tr>\n",
       "      <th>0</th>\n",
       "      <td>0</td>\n",
       "      <td>MRC</td>\n",
       "      <td>17.34</td>\n",
       "      <td>15.29</td>\n",
       "      <td>23-Jun-2017</td>\n",
       "      <td>16-Jun-2017</td>\n",
       "      <td></td>\n",
       "      <td></td>\n",
       "      <td></td>\n",
       "    </tr>\n",
       "    <tr>\n",
       "      <th>1</th>\n",
       "      <td>1</td>\n",
       "      <td>MRC</td>\n",
       "      <td>10.08</td>\n",
       "      <td>8.94</td>\n",
       "      <td>12-Feb-2016</td>\n",
       "      <td>5-Feb-2016</td>\n",
       "      <td></td>\n",
       "      <td></td>\n",
       "      <td></td>\n",
       "    </tr>\n",
       "    <tr>\n",
       "      <th>2</th>\n",
       "      <td>2</td>\n",
       "      <td>MRC</td>\n",
       "      <td>12.78</td>\n",
       "      <td>11.38</td>\n",
       "      <td>8-Jan-2016</td>\n",
       "      <td>1-Jan-2016</td>\n",
       "      <td></td>\n",
       "      <td></td>\n",
       "      <td></td>\n",
       "    </tr>\n",
       "    <tr>\n",
       "      <th>3</th>\n",
       "      <td>3</td>\n",
       "      <td>MRC</td>\n",
       "      <td>12.84</td>\n",
       "      <td>11.35</td>\n",
       "      <td>21-Aug-2015</td>\n",
       "      <td>14-Aug-2015</td>\n",
       "      <td></td>\n",
       "      <td></td>\n",
       "      <td></td>\n",
       "    </tr>\n",
       "    <tr>\n",
       "      <th>4</th>\n",
       "      <td>4</td>\n",
       "      <td>MRC</td>\n",
       "      <td>14.98</td>\n",
       "      <td>13.22</td>\n",
       "      <td>24-Jul-2015</td>\n",
       "      <td>17-Jul-2015</td>\n",
       "      <td></td>\n",
       "      <td></td>\n",
       "      <td></td>\n",
       "    </tr>\n",
       "  </tbody>\n",
       "</table>\n",
       "</div>"
      ],
      "text/plain": [
       "   Unnamed: 0 Ticker  Opening Price  Closing Price   Close_Date    Open_Date  \\\n",
       "0           0    MRC          17.34          15.29  23-Jun-2017  16-Jun-2017   \n",
       "1           1    MRC          10.08           8.94  12-Feb-2016   5-Feb-2016   \n",
       "2           2    MRC          12.78          11.38   8-Jan-2016   1-Jan-2016   \n",
       "3           3    MRC          12.84          11.35  21-Aug-2015  14-Aug-2015   \n",
       "4           4    MRC          14.98          13.22  24-Jul-2015  17-Jul-2015   \n",
       "\n",
       "  Article_Count Article_Avg_Sentiment Sentiment_Summation  \n",
       "0                                                          \n",
       "1                                                          \n",
       "2                                                          \n",
       "3                                                          \n",
       "4                                                          "
      ]
     },
     "execution_count": 21,
     "metadata": {},
     "output_type": "execute_result"
    }
   ],
   "source": [
    "#Add columns for Article Description\n",
    "stock_price_pd[\"Article_Count\"] = \"\"\n",
    "stock_price_pd[\"Article_Avg_Sentiment\"] = \"\"\n",
    "stock_price_pd[\"Sentiment_Summation\"] = \"\"\n",
    "stock_price_pd.head()"
   ]
  },
  {
   "cell_type": "code",
   "execution_count": 22,
   "metadata": {},
   "outputs": [
    {
     "name": "stdout",
     "output_type": "stream",
     "text": [
      "0       https://newsapi.org/v2/everything?&t=MRC&Open_...\n",
      "1       https://newsapi.org/v2/everything?&t=MRC&Open_...\n",
      "2       https://newsapi.org/v2/everything?&t=MRC&Open_...\n",
      "3       https://newsapi.org/v2/everything?&t=MRC&Open_...\n",
      "4       https://newsapi.org/v2/everything?&t=MRC&Open_...\n",
      "5       https://newsapi.org/v2/everything?&t=MRC&Open_...\n",
      "6       https://newsapi.org/v2/everything?&t=MRC&Open_...\n",
      "7       https://newsapi.org/v2/everything?&t=MRC&Open_...\n",
      "8       https://newsapi.org/v2/everything?&t=MRC&Open_...\n",
      "9       https://newsapi.org/v2/everything?&t=MRC&Open_...\n",
      "10      https://newsapi.org/v2/everything?&t=MRC&Open_...\n",
      "11      https://newsapi.org/v2/everything?&t=NVG&Open_...\n",
      "12      https://newsapi.org/v2/everything?&t=NVG&Open_...\n",
      "13      https://newsapi.org/v2/everything?&t=NVG&Open_...\n",
      "14      https://newsapi.org/v2/everything?&t=TDY&Open_...\n",
      "15      https://newsapi.org/v2/everything?&t=TDY&Open_...\n",
      "16      https://newsapi.org/v2/everything?&t=TDY&Open_...\n",
      "17      https://newsapi.org/v2/everything?&t=TDY&Open_...\n",
      "18      https://newsapi.org/v2/everything?&t=TDY&Open_...\n",
      "19      https://newsapi.org/v2/everything?&t=TDY&Open_...\n",
      "20      https://newsapi.org/v2/everything?&t=TDY&Open_...\n",
      "21      https://newsapi.org/v2/everything?&t=TDY&Open_...\n",
      "22      https://newsapi.org/v2/everything?&t=TDY&Open_...\n",
      "23      https://newsapi.org/v2/everything?&t=TDY&Open_...\n",
      "24      https://newsapi.org/v2/everything?&t=TDY&Open_...\n",
      "25      https://newsapi.org/v2/everything?&t=TDY&Open_...\n",
      "26      https://newsapi.org/v2/everything?&t=TDY&Open_...\n",
      "27      https://newsapi.org/v2/everything?&t=TDY&Open_...\n",
      "28      https://newsapi.org/v2/everything?&t=TDY&Open_...\n",
      "29      https://newsapi.org/v2/everything?&t=TDY&Open_...\n",
      "                              ...                        \n",
      "7177    https://newsapi.org/v2/everything?&t=PAR&Open_...\n",
      "7178    https://newsapi.org/v2/everything?&t=PAR&Open_...\n",
      "7179    https://newsapi.org/v2/everything?&t=PAR&Open_...\n",
      "7180    https://newsapi.org/v2/everything?&t=PAR&Open_...\n",
      "7181    https://newsapi.org/v2/everything?&t=PAR&Open_...\n",
      "7182    https://newsapi.org/v2/everything?&t=PAR&Open_...\n",
      "7183    https://newsapi.org/v2/everything?&t=PAR&Open_...\n",
      "7184    https://newsapi.org/v2/everything?&t=PAR&Open_...\n",
      "7185    https://newsapi.org/v2/everything?&t=PAR&Open_...\n",
      "7186    https://newsapi.org/v2/everything?&t=PAR&Open_...\n",
      "7187    https://newsapi.org/v2/everything?&t=PAR&Open_...\n",
      "7188    https://newsapi.org/v2/everything?&t=PAR&Open_...\n",
      "7189    https://newsapi.org/v2/everything?&t=PAR&Open_...\n",
      "7190    https://newsapi.org/v2/everything?&t=PAR&Open_...\n",
      "7191    https://newsapi.org/v2/everything?&t=PAR&Open_...\n",
      "7192    https://newsapi.org/v2/everything?&t=PAR&Open_...\n",
      "7193    https://newsapi.org/v2/everything?&t=PAR&Open_...\n",
      "7194    https://newsapi.org/v2/everything?&t=PAR&Open_...\n",
      "7195    https://newsapi.org/v2/everything?&t=PAR&Open_...\n",
      "7196    https://newsapi.org/v2/everything?&t=PAR&Open_...\n",
      "7197    https://newsapi.org/v2/everything?&t=PAR&Open_...\n",
      "7198    https://newsapi.org/v2/everything?&t=PAR&Open_...\n",
      "7199    https://newsapi.org/v2/everything?&t=PAR&Open_...\n",
      "7200    https://newsapi.org/v2/everything?&t=PAR&Open_...\n",
      "7201    https://newsapi.org/v2/everything?&t=PAR&Open_...\n",
      "7202    https://newsapi.org/v2/everything?&t=PAR&Open_...\n",
      "7203    https://newsapi.org/v2/everything?&t=WPC&Open_...\n",
      "7204    https://newsapi.org/v2/everything?&t=WPC&Open_...\n",
      "7205    https://newsapi.org/v2/everything?&t=WPC&Open_...\n",
      "7206    https://newsapi.org/v2/everything?&t=WPC&Open_...\n",
      "Length: 7207, dtype: object\n"
     ]
    },
    {
     "ename": "ValueError",
     "evalue": "The truth value of a Series is ambiguous. Use a.empty, a.bool(), a.item(), a.any() or a.all().",
     "output_type": "error",
     "traceback": [
      "\u001b[1;31m---------------------------------------------------------------------------\u001b[0m",
      "\u001b[1;31mValueError\u001b[0m                                Traceback (most recent call last)",
      "\u001b[1;32m<ipython-input-22-c1a7f1d0d9a1>\u001b[0m in \u001b[0;36m<module>\u001b[1;34m()\u001b[0m\n\u001b[0;32m     15\u001b[0m     \u001b[0marticle_response\u001b[0m \u001b[1;33m=\u001b[0m \u001b[0mreq\u001b[0m\u001b[1;33m.\u001b[0m\u001b[0mget\u001b[0m\u001b[1;33m(\u001b[0m\u001b[0murl\u001b[0m\u001b[1;33m)\u001b[0m\u001b[1;33m\u001b[0m\u001b[0m\n\u001b[0;32m     16\u001b[0m     \u001b[0marticle_json\u001b[0m \u001b[1;33m=\u001b[0m \u001b[0marticle_response\u001b[0m\u001b[1;33m.\u001b[0m\u001b[0mjson\u001b[0m\u001b[1;33m(\u001b[0m\u001b[1;33m)\u001b[0m\u001b[1;33m\u001b[0m\u001b[0m\n\u001b[1;32m---> 17\u001b[1;33m     \u001b[0marticles\u001b[0m \u001b[1;33m=\u001b[0m \u001b[0mreq\u001b[0m\u001b[1;33m.\u001b[0m\u001b[0mget\u001b[0m\u001b[1;33m(\u001b[0m\u001b[0mquery\u001b[0m\u001b[1;33m)\u001b[0m\u001b[1;33m.\u001b[0m\u001b[0mjson\u001b[0m\u001b[1;33m(\u001b[0m\u001b[1;33m)\u001b[0m\u001b[1;33m[\u001b[0m\u001b[1;34m\"articles\"\u001b[0m\u001b[1;33m]\u001b[0m\u001b[1;33m[\u001b[0m\u001b[1;36m0\u001b[0m\u001b[1;33m]\u001b[0m\u001b[1;33m[\u001b[0m\u001b[1;34m\"description\"\u001b[0m\u001b[1;33m]\u001b[0m\u001b[1;33m\u001b[0m\u001b[0m\n\u001b[0m\u001b[0;32m     18\u001b[0m \u001b[1;33m\u001b[0m\u001b[0m\n\u001b[0;32m     19\u001b[0m     \u001b[1;31m# Store the article count into the Data Frame\u001b[0m\u001b[1;33m\u001b[0m\u001b[1;33m\u001b[0m\u001b[0m\n",
      "\u001b[1;32m~\\Anaconda3\\envs\\pythondata\\lib\\site-packages\\requests\\api.py\u001b[0m in \u001b[0;36mget\u001b[1;34m(url, params, **kwargs)\u001b[0m\n\u001b[0;32m     70\u001b[0m \u001b[1;33m\u001b[0m\u001b[0m\n\u001b[0;32m     71\u001b[0m     \u001b[0mkwargs\u001b[0m\u001b[1;33m.\u001b[0m\u001b[0msetdefault\u001b[0m\u001b[1;33m(\u001b[0m\u001b[1;34m'allow_redirects'\u001b[0m\u001b[1;33m,\u001b[0m \u001b[1;32mTrue\u001b[0m\u001b[1;33m)\u001b[0m\u001b[1;33m\u001b[0m\u001b[0m\n\u001b[1;32m---> 72\u001b[1;33m     \u001b[1;32mreturn\u001b[0m \u001b[0mrequest\u001b[0m\u001b[1;33m(\u001b[0m\u001b[1;34m'get'\u001b[0m\u001b[1;33m,\u001b[0m \u001b[0murl\u001b[0m\u001b[1;33m,\u001b[0m \u001b[0mparams\u001b[0m\u001b[1;33m=\u001b[0m\u001b[0mparams\u001b[0m\u001b[1;33m,\u001b[0m \u001b[1;33m**\u001b[0m\u001b[0mkwargs\u001b[0m\u001b[1;33m)\u001b[0m\u001b[1;33m\u001b[0m\u001b[0m\n\u001b[0m\u001b[0;32m     73\u001b[0m \u001b[1;33m\u001b[0m\u001b[0m\n\u001b[0;32m     74\u001b[0m \u001b[1;33m\u001b[0m\u001b[0m\n",
      "\u001b[1;32m~\\Anaconda3\\envs\\pythondata\\lib\\site-packages\\requests\\api.py\u001b[0m in \u001b[0;36mrequest\u001b[1;34m(method, url, **kwargs)\u001b[0m\n\u001b[0;32m     56\u001b[0m     \u001b[1;31m# cases, and look like a memory leak in others.\u001b[0m\u001b[1;33m\u001b[0m\u001b[1;33m\u001b[0m\u001b[0m\n\u001b[0;32m     57\u001b[0m     \u001b[1;32mwith\u001b[0m \u001b[0msessions\u001b[0m\u001b[1;33m.\u001b[0m\u001b[0mSession\u001b[0m\u001b[1;33m(\u001b[0m\u001b[1;33m)\u001b[0m \u001b[1;32mas\u001b[0m \u001b[0msession\u001b[0m\u001b[1;33m:\u001b[0m\u001b[1;33m\u001b[0m\u001b[0m\n\u001b[1;32m---> 58\u001b[1;33m         \u001b[1;32mreturn\u001b[0m \u001b[0msession\u001b[0m\u001b[1;33m.\u001b[0m\u001b[0mrequest\u001b[0m\u001b[1;33m(\u001b[0m\u001b[0mmethod\u001b[0m\u001b[1;33m=\u001b[0m\u001b[0mmethod\u001b[0m\u001b[1;33m,\u001b[0m \u001b[0murl\u001b[0m\u001b[1;33m=\u001b[0m\u001b[0murl\u001b[0m\u001b[1;33m,\u001b[0m \u001b[1;33m**\u001b[0m\u001b[0mkwargs\u001b[0m\u001b[1;33m)\u001b[0m\u001b[1;33m\u001b[0m\u001b[0m\n\u001b[0m\u001b[0;32m     59\u001b[0m \u001b[1;33m\u001b[0m\u001b[0m\n\u001b[0;32m     60\u001b[0m \u001b[1;33m\u001b[0m\u001b[0m\n",
      "\u001b[1;32m~\\Anaconda3\\envs\\pythondata\\lib\\site-packages\\requests\\sessions.py\u001b[0m in \u001b[0;36mrequest\u001b[1;34m(self, method, url, params, data, headers, cookies, files, auth, timeout, allow_redirects, proxies, hooks, stream, verify, cert, json)\u001b[0m\n\u001b[0;32m    492\u001b[0m             \u001b[0mhooks\u001b[0m\u001b[1;33m=\u001b[0m\u001b[0mhooks\u001b[0m\u001b[1;33m,\u001b[0m\u001b[1;33m\u001b[0m\u001b[0m\n\u001b[0;32m    493\u001b[0m         )\n\u001b[1;32m--> 494\u001b[1;33m         \u001b[0mprep\u001b[0m \u001b[1;33m=\u001b[0m \u001b[0mself\u001b[0m\u001b[1;33m.\u001b[0m\u001b[0mprepare_request\u001b[0m\u001b[1;33m(\u001b[0m\u001b[0mreq\u001b[0m\u001b[1;33m)\u001b[0m\u001b[1;33m\u001b[0m\u001b[0m\n\u001b[0m\u001b[0;32m    495\u001b[0m \u001b[1;33m\u001b[0m\u001b[0m\n\u001b[0;32m    496\u001b[0m         \u001b[0mproxies\u001b[0m \u001b[1;33m=\u001b[0m \u001b[0mproxies\u001b[0m \u001b[1;32mor\u001b[0m \u001b[1;33m{\u001b[0m\u001b[1;33m}\u001b[0m\u001b[1;33m\u001b[0m\u001b[0m\n",
      "\u001b[1;32m~\\Anaconda3\\envs\\pythondata\\lib\\site-packages\\requests\\sessions.py\u001b[0m in \u001b[0;36mprepare_request\u001b[1;34m(self, request)\u001b[0m\n\u001b[0;32m    422\u001b[0m         \u001b[0mauth\u001b[0m \u001b[1;33m=\u001b[0m \u001b[0mrequest\u001b[0m\u001b[1;33m.\u001b[0m\u001b[0mauth\u001b[0m\u001b[1;33m\u001b[0m\u001b[0m\n\u001b[0;32m    423\u001b[0m         \u001b[1;32mif\u001b[0m \u001b[0mself\u001b[0m\u001b[1;33m.\u001b[0m\u001b[0mtrust_env\u001b[0m \u001b[1;32mand\u001b[0m \u001b[1;32mnot\u001b[0m \u001b[0mauth\u001b[0m \u001b[1;32mand\u001b[0m \u001b[1;32mnot\u001b[0m \u001b[0mself\u001b[0m\u001b[1;33m.\u001b[0m\u001b[0mauth\u001b[0m\u001b[1;33m:\u001b[0m\u001b[1;33m\u001b[0m\u001b[0m\n\u001b[1;32m--> 424\u001b[1;33m             \u001b[0mauth\u001b[0m \u001b[1;33m=\u001b[0m \u001b[0mget_netrc_auth\u001b[0m\u001b[1;33m(\u001b[0m\u001b[0mrequest\u001b[0m\u001b[1;33m.\u001b[0m\u001b[0murl\u001b[0m\u001b[1;33m)\u001b[0m\u001b[1;33m\u001b[0m\u001b[0m\n\u001b[0m\u001b[0;32m    425\u001b[0m \u001b[1;33m\u001b[0m\u001b[0m\n\u001b[0;32m    426\u001b[0m         \u001b[0mp\u001b[0m \u001b[1;33m=\u001b[0m \u001b[0mPreparedRequest\u001b[0m\u001b[1;33m(\u001b[0m\u001b[1;33m)\u001b[0m\u001b[1;33m\u001b[0m\u001b[0m\n",
      "\u001b[1;32m~\\Anaconda3\\envs\\pythondata\\lib\\site-packages\\requests\\utils.py\u001b[0m in \u001b[0;36mget_netrc_auth\u001b[1;34m(url, raise_errors)\u001b[0m\n\u001b[0;32m    183\u001b[0m             \u001b[1;32mreturn\u001b[0m\u001b[1;33m\u001b[0m\u001b[0m\n\u001b[0;32m    184\u001b[0m \u001b[1;33m\u001b[0m\u001b[0m\n\u001b[1;32m--> 185\u001b[1;33m         \u001b[0mri\u001b[0m \u001b[1;33m=\u001b[0m \u001b[0murlparse\u001b[0m\u001b[1;33m(\u001b[0m\u001b[0murl\u001b[0m\u001b[1;33m)\u001b[0m\u001b[1;33m\u001b[0m\u001b[0m\n\u001b[0m\u001b[0;32m    186\u001b[0m \u001b[1;33m\u001b[0m\u001b[0m\n\u001b[0;32m    187\u001b[0m         \u001b[1;31m# Strip port numbers from netloc. This weird `if...encode`` dance is\u001b[0m\u001b[1;33m\u001b[0m\u001b[1;33m\u001b[0m\u001b[0m\n",
      "\u001b[1;32m~\\Anaconda3\\envs\\pythondata\\lib\\urllib\\parse.py\u001b[0m in \u001b[0;36murlparse\u001b[1;34m(url, scheme, allow_fragments)\u001b[0m\n\u001b[0;32m    363\u001b[0m     \u001b[0mNote\u001b[0m \u001b[0mthat\u001b[0m \u001b[0mwe\u001b[0m \u001b[0mdon\u001b[0m\u001b[0;31m'\u001b[0m\u001b[0mt\u001b[0m \u001b[1;32mbreak\u001b[0m \u001b[0mthe\u001b[0m \u001b[0mcomponents\u001b[0m \u001b[0mup\u001b[0m \u001b[1;32min\u001b[0m \u001b[0msmaller\u001b[0m \u001b[0mbits\u001b[0m\u001b[1;33m\u001b[0m\u001b[0m\n\u001b[0;32m    364\u001b[0m     (e.g. netloc is a single string) and we don't expand % escapes.\"\"\"\n\u001b[1;32m--> 365\u001b[1;33m     \u001b[0murl\u001b[0m\u001b[1;33m,\u001b[0m \u001b[0mscheme\u001b[0m\u001b[1;33m,\u001b[0m \u001b[0m_coerce_result\u001b[0m \u001b[1;33m=\u001b[0m \u001b[0m_coerce_args\u001b[0m\u001b[1;33m(\u001b[0m\u001b[0murl\u001b[0m\u001b[1;33m,\u001b[0m \u001b[0mscheme\u001b[0m\u001b[1;33m)\u001b[0m\u001b[1;33m\u001b[0m\u001b[0m\n\u001b[0m\u001b[0;32m    366\u001b[0m     \u001b[0msplitresult\u001b[0m \u001b[1;33m=\u001b[0m \u001b[0murlsplit\u001b[0m\u001b[1;33m(\u001b[0m\u001b[0murl\u001b[0m\u001b[1;33m,\u001b[0m \u001b[0mscheme\u001b[0m\u001b[1;33m,\u001b[0m \u001b[0mallow_fragments\u001b[0m\u001b[1;33m)\u001b[0m\u001b[1;33m\u001b[0m\u001b[0m\n\u001b[0;32m    367\u001b[0m     \u001b[0mscheme\u001b[0m\u001b[1;33m,\u001b[0m \u001b[0mnetloc\u001b[0m\u001b[1;33m,\u001b[0m \u001b[0murl\u001b[0m\u001b[1;33m,\u001b[0m \u001b[0mquery\u001b[0m\u001b[1;33m,\u001b[0m \u001b[0mfragment\u001b[0m \u001b[1;33m=\u001b[0m \u001b[0msplitresult\u001b[0m\u001b[1;33m\u001b[0m\u001b[0m\n",
      "\u001b[1;32m~\\Anaconda3\\envs\\pythondata\\lib\\urllib\\parse.py\u001b[0m in \u001b[0;36m_coerce_args\u001b[1;34m(*args)\u001b[0m\n\u001b[0;32m    121\u001b[0m     \u001b[1;32mif\u001b[0m \u001b[0mstr_input\u001b[0m\u001b[1;33m:\u001b[0m\u001b[1;33m\u001b[0m\u001b[0m\n\u001b[0;32m    122\u001b[0m         \u001b[1;32mreturn\u001b[0m \u001b[0margs\u001b[0m \u001b[1;33m+\u001b[0m \u001b[1;33m(\u001b[0m\u001b[0m_noop\u001b[0m\u001b[1;33m,\u001b[0m\u001b[1;33m)\u001b[0m\u001b[1;33m\u001b[0m\u001b[0m\n\u001b[1;32m--> 123\u001b[1;33m     \u001b[1;32mreturn\u001b[0m \u001b[0m_decode_args\u001b[0m\u001b[1;33m(\u001b[0m\u001b[0margs\u001b[0m\u001b[1;33m)\u001b[0m \u001b[1;33m+\u001b[0m \u001b[1;33m(\u001b[0m\u001b[0m_encode_result\u001b[0m\u001b[1;33m,\u001b[0m\u001b[1;33m)\u001b[0m\u001b[1;33m\u001b[0m\u001b[0m\n\u001b[0m\u001b[0;32m    124\u001b[0m \u001b[1;33m\u001b[0m\u001b[0m\n\u001b[0;32m    125\u001b[0m \u001b[1;31m# Result objects are more helpful than simple tuples\u001b[0m\u001b[1;33m\u001b[0m\u001b[1;33m\u001b[0m\u001b[0m\n",
      "\u001b[1;32m~\\Anaconda3\\envs\\pythondata\\lib\\urllib\\parse.py\u001b[0m in \u001b[0;36m_decode_args\u001b[1;34m(args, encoding, errors)\u001b[0m\n\u001b[0;32m    105\u001b[0m def _decode_args(args, encoding=_implicit_encoding,\n\u001b[0;32m    106\u001b[0m                        errors=_implicit_errors):\n\u001b[1;32m--> 107\u001b[1;33m     \u001b[1;32mreturn\u001b[0m \u001b[0mtuple\u001b[0m\u001b[1;33m(\u001b[0m\u001b[0mx\u001b[0m\u001b[1;33m.\u001b[0m\u001b[0mdecode\u001b[0m\u001b[1;33m(\u001b[0m\u001b[0mencoding\u001b[0m\u001b[1;33m,\u001b[0m \u001b[0merrors\u001b[0m\u001b[1;33m)\u001b[0m \u001b[1;32mif\u001b[0m \u001b[0mx\u001b[0m \u001b[1;32melse\u001b[0m \u001b[1;34m''\u001b[0m \u001b[1;32mfor\u001b[0m \u001b[0mx\u001b[0m \u001b[1;32min\u001b[0m \u001b[0margs\u001b[0m\u001b[1;33m)\u001b[0m\u001b[1;33m\u001b[0m\u001b[0m\n\u001b[0m\u001b[0;32m    108\u001b[0m \u001b[1;33m\u001b[0m\u001b[0m\n\u001b[0;32m    109\u001b[0m \u001b[1;32mdef\u001b[0m \u001b[0m_coerce_args\u001b[0m\u001b[1;33m(\u001b[0m\u001b[1;33m*\u001b[0m\u001b[0margs\u001b[0m\u001b[1;33m)\u001b[0m\u001b[1;33m:\u001b[0m\u001b[1;33m\u001b[0m\u001b[0m\n",
      "\u001b[1;32m~\\Anaconda3\\envs\\pythondata\\lib\\urllib\\parse.py\u001b[0m in \u001b[0;36m<genexpr>\u001b[1;34m(.0)\u001b[0m\n\u001b[0;32m    105\u001b[0m def _decode_args(args, encoding=_implicit_encoding,\n\u001b[0;32m    106\u001b[0m                        errors=_implicit_errors):\n\u001b[1;32m--> 107\u001b[1;33m     \u001b[1;32mreturn\u001b[0m \u001b[0mtuple\u001b[0m\u001b[1;33m(\u001b[0m\u001b[0mx\u001b[0m\u001b[1;33m.\u001b[0m\u001b[0mdecode\u001b[0m\u001b[1;33m(\u001b[0m\u001b[0mencoding\u001b[0m\u001b[1;33m,\u001b[0m \u001b[0merrors\u001b[0m\u001b[1;33m)\u001b[0m \u001b[1;32mif\u001b[0m \u001b[0mx\u001b[0m \u001b[1;32melse\u001b[0m \u001b[1;34m''\u001b[0m \u001b[1;32mfor\u001b[0m \u001b[0mx\u001b[0m \u001b[1;32min\u001b[0m \u001b[0margs\u001b[0m\u001b[1;33m)\u001b[0m\u001b[1;33m\u001b[0m\u001b[0m\n\u001b[0m\u001b[0;32m    108\u001b[0m \u001b[1;33m\u001b[0m\u001b[0m\n\u001b[0;32m    109\u001b[0m \u001b[1;32mdef\u001b[0m \u001b[0m_coerce_args\u001b[0m\u001b[1;33m(\u001b[0m\u001b[1;33m*\u001b[0m\u001b[0margs\u001b[0m\u001b[1;33m)\u001b[0m\u001b[1;33m:\u001b[0m\u001b[1;33m\u001b[0m\u001b[0m\n",
      "\u001b[1;32m~\\Anaconda3\\envs\\pythondata\\lib\\site-packages\\pandas\\core\\generic.py\u001b[0m in \u001b[0;36m__nonzero__\u001b[1;34m(self)\u001b[0m\n\u001b[0;32m    953\u001b[0m         raise ValueError(\"The truth value of a {0} is ambiguous. \"\n\u001b[0;32m    954\u001b[0m                          \u001b[1;34m\"Use a.empty, a.bool(), a.item(), a.any() or a.all().\"\u001b[0m\u001b[1;33m\u001b[0m\u001b[0m\n\u001b[1;32m--> 955\u001b[1;33m                          .format(self.__class__.__name__))\n\u001b[0m\u001b[0;32m    956\u001b[0m \u001b[1;33m\u001b[0m\u001b[0m\n\u001b[0;32m    957\u001b[0m     \u001b[0m__bool__\u001b[0m \u001b[1;33m=\u001b[0m \u001b[0m__nonzero__\u001b[0m\u001b[1;33m\u001b[0m\u001b[0m\n",
      "\u001b[1;31mValueError\u001b[0m: The truth value of a Series is ambiguous. Use a.empty, a.bool(), a.item(), a.any() or a.all()."
     ]
    }
   ],
   "source": [
    "# Loop through tickers and articles\n",
    "\n",
    "# Counter\n",
    "row_count = 0\n",
    "\n",
    "for index, row in stock_price_pd.iterrows():\n",
    "    t = stock_price_pd[\"Ticker\"]\n",
    "    Open_Date = stock_price_pd[\"Open_Date\"]\n",
    "    Close_Date = stock_price_pd[\"Close_Date\"]\n",
    "    \n",
    "    query = url + \"&t=\" + t + \"&Open_Date=\" + Open_Date + \"&Close_Date=\" + Close_Date\n",
    "    print(query)\n",
    "\n",
    "    #Get article data\n",
    "    article_response = req.get(url)\n",
    "    article_json = article_response.json()\n",
    "    articles = req.get(query).json()[\"articles\"][0][\"description\"]\n",
    "    \n",
    "    # Store the article count into the Data Frame\n",
    "    stock_price_pd.set_value(index, \"Article_Count\", article_count)\n",
    "                                             \n",
    "\n",
    "    # Run Vader Analysis with While loop\n",
    "    while article in articles:\n",
    "            Article_Sentiment = article_json[\"response\"][0][\"docs\"]\n",
    "            compound = analyzer.polarity_scores(Article_Sentiment)[\"compound\"]\n",
    "            pos = analyzer.polarity_scores(Article_Sentiment)[\"pos\"]\n",
    "            neu = analyzer.polarity_scores(Article_Sentiment)[\"neu\"]\n",
    "            neg = analyzer.polarity_scores(Article_Sentiment)[\"neg\"]\n",
    "    \n",
    "            Sentiment_Summation = compound \n",
    "    \n",
    "    try: \n",
    "        stock_price_pd.set_value(index, \"Sentiment_Summation\", Sentiment_Summation)\n",
    "      \n",
    "    \n",
    "    except:\n",
    "        #print(\"Error with data. Skipping\")\n",
    "        continue\n",
    "\n",
    "    # Reset row count\n",
    "    row_count = 0"
   ]
  },
  {
   "cell_type": "code",
   "execution_count": null,
   "metadata": {
    "collapsed": true
   },
   "outputs": [],
   "source": []
  }
 ],
 "metadata": {
  "kernelspec": {
   "display_name": "Python 3",
   "language": "python",
   "name": "python3"
  },
  "language_info": {
   "codemirror_mode": {
    "name": "ipython",
    "version": 3
   },
   "file_extension": ".py",
   "mimetype": "text/x-python",
   "name": "python",
   "nbconvert_exporter": "python",
   "pygments_lexer": "ipython3",
   "version": "3.6.3"
  }
 },
 "nbformat": 4,
 "nbformat_minor": 2
}
