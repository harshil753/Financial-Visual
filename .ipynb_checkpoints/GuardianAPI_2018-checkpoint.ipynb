{
 "cells": [
  {
   "cell_type": "code",
   "execution_count": 34,
   "metadata": {
    "collapsed": true
   },
   "outputs": [],
   "source": [
    "# Dependencies\n",
    "import requests as req\n",
    "import numpy as np\n",
    "import pandas as pd\n",
    "import json\n",
    "import time\n",
    "import nltk.data\n",
    "from os import makedirs\n",
    "from os.path import join, exists\n",
    "from datetime import date, timedelta"
   ]
  },
  {
   "cell_type": "markdown",
   "metadata": {},
   "source": [
    "# TEST"
   ]
  },
  {
   "cell_type": "code",
   "execution_count": 21,
   "metadata": {},
   "outputs": [
    {
     "name": "stdout",
     "output_type": "stream",
     "text": [
      "https://content.guardianapis.com/search?api-key=8a2fcf01-9a95-4f45-a42f-f467c8bdab27\n"
     ]
    }
   ],
   "source": [
    "#TEST url\n",
    "#All news\n",
    "url = (\"https://content.guardianapis.com/search?api-key=8a2fcf01-9a95-4f45-a42f-f467c8bdab27\")\n",
    "response = req.get(url)\n",
    "query = url\n",
    "print(query)"
   ]
  },
  {
   "cell_type": "code",
   "execution_count": 23,
   "metadata": {},
   "outputs": [],
   "source": [
    "# News API URL\n",
    "url = \"https://content.guardianapis.com/search?\"\n",
    "apikey = \"8a2fcf01-9a95-4f45-a42f-f467c8bdab27\""
   ]
  },
  {
   "cell_type": "code",
   "execution_count": 24,
   "metadata": {
    "collapsed": true
   },
   "outputs": [],
   "source": [
    "# TEST search with one ticker\n",
    "q = \"AMZN\""
   ]
  },
  {
   "cell_type": "code",
   "execution_count": 25,
   "metadata": {
    "collapsed": true
   },
   "outputs": [],
   "source": [
    "# TEST dates with fixed dates\n",
    "Open_Date = \"2018-01-01\"\n",
    "Close_Date = \"2018-01-19\""
   ]
  },
  {
   "cell_type": "code",
   "execution_count": 26,
   "metadata": {},
   "outputs": [
    {
     "name": "stdout",
     "output_type": "stream",
     "text": [
      "https://content.guardianapis.com/search?q=AMZN&from=2018-01-01&to=2018-01-19&api-key=8a2fcf01-9a95-4f45-a42f-f467c8bdab27\n"
     ]
    }
   ],
   "source": [
    "# TEST query URL \n",
    "query = url + \"q=\" + q + \"&from=\" + Open_Date + \"&to=\" + Close_Date + \"&api-key=\" + apikey\n",
    "\n",
    "print(query)"
   ]
  },
  {
   "cell_type": "code",
   "execution_count": 55,
   "metadata": {
    "scrolled": true
   },
   "outputs": [
    {
     "name": "stdout",
     "output_type": "stream",
     "text": [
      "https://content.guardianapis.com/search?q=AMZN&from=2018-01-01&to=2018-01-19&api-key=8a2fcf01-9a95-4f45-a42f-f467c8bdab27\n",
      "US GDP growth beats forecasts; tech giants drive Nasdaq to record high – as it happened\n"
     ]
    }
   ],
   "source": [
    "# TEST Query json\n",
    "query = url + \"q=\" + q + \"&from=\" + Open_Date + \"&to=\" + Close_Date + \"&api-key=\" + apikey\n",
    "\n",
    "print(query)\n",
    "# Retrieve articles\n",
    "articles = req.get(query).json()['response']['results'][1][\"webTitle\"]\n",
    "print(articles)"
   ]
  },
  {
   "cell_type": "code",
   "execution_count": 60,
   "metadata": {},
   "outputs": [
    {
     "name": "stdout",
     "output_type": "stream",
     "text": [
      "Google Home devices stop responding to Burger King's TV ad prompt\n",
      "======================\n",
      "US GDP growth beats forecasts; tech giants drive Nasdaq to record high – as it happened\n",
      "======================\n",
      "Tips, links and suggestions: what are you reading this week?\n",
      "======================\n",
      "Netflix and ill: is the golden age of TV coming to an end?\n",
      "======================\n",
      "Amazon's brutal work culture will stay: bottom lines matter more than people | Mike Daisey\n",
      "======================\n",
      "Apple – losing out on talent and in need of a killer new device\n",
      "======================\n",
      "Sweetheart deals and sister companies: how top firms pay less tax\n",
      "======================\n",
      "Amazon writes off $170m on unsold Fire Phones\n",
      "======================\n",
      "Amazon halts sales of some Hachette books as publishing battle escalates\n",
      "======================\n",
      "Federal Reserve puts rate rise on hold - as it happened\n",
      "======================\n"
     ]
    }
   ],
   "source": [
    "articles = req.get(query).json()['response']['results']\n",
    "queries_returned = len(articles)\n",
    "for x in range(queries_returned):\n",
    "    print(articles[x][\"webTitle\"])\n",
    "    print(\"======================\")"
   ]
  },
  {
   "cell_type": "code",
   "execution_count": 61,
   "metadata": {},
   "outputs": [
    {
     "name": "stdout",
     "output_type": "stream",
     "text": [
      "8\n"
     ]
    }
   ],
   "source": [
    "# TEST article count\n",
    "article_count = len(\"webTitle\")\n",
    "print(article_count)"
   ]
  },
  {
   "cell_type": "code",
   "execution_count": 62,
   "metadata": {},
   "outputs": [
    {
     "name": "stdout",
     "output_type": "stream",
     "text": [
      "C:\\Users\\craig\\Desktop\\Bounce_Back\\Bounce_Back\\vaderSentiment_master\n"
     ]
    }
   ],
   "source": [
    "cd vaderSentiment_master"
   ]
  },
  {
   "cell_type": "code",
   "execution_count": 63,
   "metadata": {},
   "outputs": [
    {
     "name": "stdout",
     "output_type": "stream",
     "text": [
      "C:\\Users\\craig\\Desktop\\Bounce_Back\\Bounce_Back\\vaderSentiment_master\\vaderSentiment\n"
     ]
    }
   ],
   "source": [
    "cd vaderSentiment"
   ]
  },
  {
   "cell_type": "code",
   "execution_count": 64,
   "metadata": {
    "collapsed": true
   },
   "outputs": [],
   "source": [
    "import vaderSentiment"
   ]
  },
  {
   "cell_type": "code",
   "execution_count": 65,
   "metadata": {
    "collapsed": true
   },
   "outputs": [],
   "source": [
    "# Import and Initialize Sentiment Analyzer\n",
    "from vaderSentiment import SentimentIntensityAnalyzer\n",
    "analyzer = SentimentIntensityAnalyzer()"
   ]
  },
  {
   "cell_type": "code",
   "execution_count": 67,
   "metadata": {},
   "outputs": [
    {
     "name": "stdout",
     "output_type": "stream",
     "text": [
      "Compound Score: 0.0\n",
      "Positive Score: 0.0\n",
      "Neutral Score: 1.0\n",
      "Negative Score: 0.0\n"
     ]
    }
   ],
   "source": [
    "# Test Vader Analysis without  loop\n",
    "\n",
    "Article_Sentiment = (articles[x][\"webTitle\"])\n",
    "compound = analyzer.polarity_scores(Article_Sentiment)[\"compound\"]\n",
    "pos = analyzer.polarity_scores(Article_Sentiment)[\"pos\"]\n",
    "neu = analyzer.polarity_scores(Article_Sentiment)[\"neu\"]\n",
    "neg = analyzer.polarity_scores(Article_Sentiment)[\"neg\"]\n",
    "            \n",
    "            # Print Analysis\n",
    "print(\"Compound Score: %s\" % compound)\n",
    "print(\"Positive Score: %s\" % pos)\n",
    "print(\"Neutral Score: %s\" % neu)\n",
    "print(\"Negative Score: %s\" % neg)"
   ]
  },
  {
   "cell_type": "code",
   "execution_count": null,
   "metadata": {},
   "outputs": [],
   "source": [
    "Sentiment_Summation = compound \n",
    "print(Sentiment_Summation)"
   ]
  },
  {
   "cell_type": "markdown",
   "metadata": {},
   "source": [
    "# PRODUCTION"
   ]
  },
  {
   "cell_type": "code",
   "execution_count": null,
   "metadata": {},
   "outputs": [],
   "source": [
    "cd .."
   ]
  },
  {
   "cell_type": "code",
   "execution_count": null,
   "metadata": {
    "collapsed": true
   },
   "outputs": [],
   "source": [
    "# Need to run for local install of Vader Module solution\n"
   ]
  },
  {
   "cell_type": "code",
   "execution_count": null,
   "metadata": {},
   "outputs": [],
   "source": [
    "# Import csv to stock_price_pd\n",
    "stock_price_pd = pd.read_csv(\"price drops.csv\")\n",
    "stock_price_pd.head()"
   ]
  },
  {
   "cell_type": "code",
   "execution_count": null,
   "metadata": {},
   "outputs": [],
   "source": [
    "#Add columns for Article Description\n",
    "stock_price_pd[\"Article_Count\"] = \"\"\n",
    "stock_price_pd[\"Article_Avg_Sentiment\"] = \"\"\n",
    "stock_price_pd[\"Sentiment_Summation\"] = \"\"\n",
    "stock_price_pd.head()"
   ]
  },
  {
   "cell_type": "code",
   "execution_count": null,
   "metadata": {},
   "outputs": [],
   "source": [
    "# # Loop through tickers and articles\n",
    "\n",
    "# # Counter\n",
    "# row_count = 0\n",
    "\n",
    "# for index, row in stock_price_pd.iterrows():\n",
    "#     t = stock_price_pd[\"Ticker\"]\n",
    "#     Open_Date = stock_price_pd[\"Open_Date\"]\n",
    "#     Close_Date = stock_price_pd[\"Close_Date\"]\n",
    "    \n",
    "#     query = url + \"&t=\" + t + \"&Open_Date=\" + Open_Date + \"&Close_Date=\" + Close_Date\n",
    "#     print(query)\n",
    "\n",
    "#     #Get article data\n",
    "#     article_response = req.get(url)\n",
    "#     article_json = article_response.json()\n",
    "#     articles = req.get(query).json()[\"articles\"][0][\"description\"]\n",
    "    \n",
    "#     # Store the article count into the Data Frame\n",
    "#     stock_price_pd.set_value(index, \"Article_Count\", article_count)\n",
    "                                             \n",
    "\n",
    "#     # Run Vader Analysis with While loop\n",
    "#     while article in articles:\n",
    "#             Article_Sentiment = article_json[\"response\"][0][\"docs\"]\n",
    "#             compound = analyzer.polarity_scores(Article_Sentiment)[\"compound\"]\n",
    "#             pos = analyzer.polarity_scores(Article_Sentiment)[\"pos\"]\n",
    "#             neu = analyzer.polarity_scores(Article_Sentiment)[\"neu\"]\n",
    "#             neg = analyzer.polarity_scores(Article_Sentiment)[\"neg\"]\n",
    "    \n",
    "#             Sentiment_Summation = compound \n",
    "    \n",
    "#     try: \n",
    "#         stock_price_pd.set_value(index, \"Sentiment_Summation\", Sentiment_Summation)\n",
    "      \n",
    "    \n",
    "#     except:\n",
    "#         #print(\"Error with data. Skipping\")\n",
    "#         continue\n",
    "\n",
    "#     # Reset row count\n",
    "#     row_count = 0"
   ]
  },
  {
   "cell_type": "code",
   "execution_count": null,
   "metadata": {
    "collapsed": true
   },
   "outputs": [],
   "source": []
  }
 ],
 "metadata": {
  "kernelspec": {
   "display_name": "Python 3",
   "language": "python",
   "name": "python3"
  },
  "language_info": {
   "codemirror_mode": {
    "name": "ipython",
    "version": 3
   },
   "file_extension": ".py",
   "mimetype": "text/x-python",
   "name": "python",
   "nbconvert_exporter": "python",
   "pygments_lexer": "ipython3",
   "version": "3.6.3"
  }
 },
 "nbformat": 4,
 "nbformat_minor": 2
}
